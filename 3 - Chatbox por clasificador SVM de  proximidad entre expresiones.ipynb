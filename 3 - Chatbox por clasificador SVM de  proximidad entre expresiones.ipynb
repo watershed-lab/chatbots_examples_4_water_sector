{
 "cells": [
  {
   "cell_type": "markdown",
   "metadata": {},
   "source": [
    "## Chatbot por clasificador SVM, de proximidad entre expresiones\n",
    "\n",
    "La funcionalidad de un chatbot por proximidad a una intención tambien es limitada, aunque más versátil que las anteriores según la calidad de las expresiones y la cantidad de clases de intenciones utilizadas para el entrenamiento.\n",
    "Aunque en un modelo demostrativo es evidente que si se equivoca la intención enseguida aparece una respuesta inapropiada, su análisis resulta útil como introducción al uso de técnicas de aprendizaje automático con clasificadores de soporte vectorial o máquinas SVM"
   ]
  },
  {
   "cell_type": "code",
   "execution_count": 1,
   "metadata": {},
   "outputs": [],
   "source": [
    "### #############################################################\n",
    "### Chatbot por clasificador SVM de proximidad entre expresiones\n",
    "### Jose Maria de Cuenca\n",
    "### #############################################################\n",
    "\n",
    "# Cargo librerías y funciones generales\n",
    "import numpy as np # librería de cálculo matricial\n",
    "import re # librería \"regular expressions\", para análisis de expresiones regulares\n",
    "from collections import defaultdict # función para manejar listas de palabras con un diccinario\n",
    "from sklearn.svm import SVC # función SVC de la librería de máquinas de soporte vectorial SVM de Scikit-Learn"
   ]
  },
  {
   "cell_type": "code",
   "execution_count": 2,
   "metadata": {},
   "outputs": [],
   "source": [
    "# Cargo librería de procesamiento del lenguaje. Si ella o el paquete de lenguaje no está instalada debo hacerlo\n",
    "\n",
    "import spacy # librería de procesado del lenguaje natural\n",
    "# Si no está puedo buscarla en el interface de entorno de Anaconda, o mejor, cargar en linea de comandos con\n",
    "# conda install -c conda-forge spacy\n",
    "\n",
    "# Y tendré tambien que añadir las tablas y reglas para la funcionalidad de identificacion de lemas\n",
    "# conda install -c conda-forge spacy-lookups-data\n",
    "\n",
    "\n",
    "# Importo el paquete de lenguaje para la máquina. Opcionalmente podría descargarlo cada vez que deba usarlo (con la instrucción spacy.load(\"en_core_web_lg\"))\n",
    "# Opto por importarlo para reducir el tiempo de ejecución del código\n",
    "import es_core_news_lg # Large model para ESpañol\n",
    "\n",
    "# Si no tengo el paquete de lenguaje dará error: debo instalarlo mediante línea de comandos de Anaconda\n",
    "# Puestos a instalar, lo mejor es cargar dos idiomas, el inglés, que usan la mayoría de ejemplos disponibles en la red. Y el de español para esta máquina. \n",
    "# Siempre debemos instalar los paquetes extendidos, porque incluyen la generación de vectores con las palabras\n",
    "# python -m spacy download en_core_web_lg\n",
    "# python -m spacy download es_core_news_lg\n",
    "\n",
    "# Cargo el módulo de lenguaje natural del español. Puede tardar tiempo en función del tamaño del paquete\n",
    "nlp = spacy.load('es_core_news_lg')\n",
    "\n",
    "# Alternativamente, como paquete de carga directa\n",
    "# nlp = es_core_news_lg.load()"
   ]
  },
  {
   "cell_type": "code",
   "execution_count": 3,
   "metadata": {},
   "outputs": [],
   "source": [
    "# Defino una variable para almacenar la cadena de pregunta y respuesta con un formato que incluye un separador de guiones\n",
    "contestacion = \"Pregunta: {input}\\nRespuesta: {output}\\n\" + \"-\"*100"
   ]
  },
  {
   "cell_type": "code",
   "execution_count": 4,
   "metadata": {
    "scrolled": false
   },
   "outputs": [
    {
     "name": "stdout",
     "output_type": "stream",
     "text": [
      "NUM FRASES: 30\n",
      "NUM INTENCIONES:  30\n"
     ]
    }
   ],
   "source": [
    "# Análisis de intencion\n",
    "\n",
    "# Defino dos listas con datos para entrenamiento, una con frases típicas y otra con la intención del interlocutor\n",
    "# Ambas deben tener la misma longiud, y corresponderse ordenadamente las frases con la intención de las mismas\n",
    "\n",
    "lista_frases_entrenamiento = [\n",
    "    \"¿Donde está su oficina?\",\n",
    "    \"Necesito atención presencial personalizada\",\n",
    "    \"Quiero verles, ¿puede darme una cita?\",\n",
    "    \"Me gustaría tener una entrevista\",\n",
    "    \"¿Puedo pasar a visitarles?\",\n",
    "    \"¿Atienden al público en oficina?\",\n",
    "    \"¿Por qué es tan cara el agua?\",\n",
    "    \"El precio del agua es demasiado elevado\",\n",
    "    \"El suministro de agua es carísimo\",\n",
    "    \"¿Cuanto cuesta el agua?\",\n",
    "    \"Creo que la tarifa de agua es abusiva\",\n",
    "    \"La tasa de agua es muy cara\",\n",
    "    \"¿Por qué pago tanto de agua?\",\n",
    "    \"Creo que esta factura esta mal\",\n",
    "    \"El recibo debe ser erróneo, es mayor que otras veces\",\n",
    "    \"El cargo por agua en el banco es demasiado alto\",\n",
    "    \"He pagado mucho más de lo normal por el agua esta vez\",\n",
    "    \"¿Puede explicarme de donde sale el importe de un recibo tan alto?\",\n",
    "    \"Quiero pagar el recibo de agua\",\n",
    "    \"Deseo pagar esta factura de agua\",\n",
    "    \"Voy a cerrar mis cuentas del banco ¿Cómo hago para pagar las facturas de agua?\",\n",
    "    \"Quiero hacer un ingreso por este recibo\",\n",
    "    \"¿Qué opciones hay para pagar aparte de la domiciliación bancaria?\",\n",
    "    \"No quiero domiciliar los recibos en el banco\",\n",
    "    \"Quiero darme de alta\",\n",
    "    \"¿Qué hay que hacer para contratar el agua?\",\n",
    "    \"¿Cómo puedo abonarme al servicio?\",\n",
    "    \"Quiero transpasar el suministro de agua\",\n",
    "    \"Quiero realizar un cambio de titular del contrato\",\n",
    "    \"¿Qué hago para tener contrato de suministro?\"\n",
    "]\n",
    "\n",
    "lista_intenciones = [\n",
    "    \"presencial\",\n",
    "    \"presencial\",\n",
    "    \"presencial\",\n",
    "    \"presencial\",\n",
    "    \"presencial\",\n",
    "    \"presencial\",\n",
    "    \"precio\",\n",
    "    \"precio\",\n",
    "    \"precio\",\n",
    "    \"precio\",\n",
    "    \"precio\",\n",
    "    \"precio\",\n",
    "    \"factura\",\n",
    "    \"factura\",\n",
    "    \"factura\",\n",
    "    \"factura\",\n",
    "    \"factura\",\n",
    "    \"factura\",\n",
    "    \"ingreso\",\n",
    "    \"ingreso\",\n",
    "    \"ingreso\",\n",
    "    \"ingreso\",\n",
    "    \"ingreso\",\n",
    "    \"ingreso\",\n",
    "    \"alta\",\n",
    "    \"alta\",\n",
    "    \"alta\",\n",
    "    \"alta\",\n",
    "    \"alta\",\n",
    "    \"alta\"\n",
    "]\n",
    "\n",
    "# Compruebo que las longitudes de ambas listas sean iguales\n",
    "print('NUM FRASES:', len(lista_frases_entrenamiento))\n",
    "print('NUM INTENCIONES: ', len(lista_intenciones))"
   ]
  },
  {
   "cell_type": "code",
   "execution_count": 5,
   "metadata": {},
   "outputs": [
    {
     "name": "stdout",
     "output_type": "stream",
     "text": [
      "LISTA RESUMEN:  ['presencial', 'precio', 'factura', 'ingreso', 'alta']\n",
      "NUMERO DE CLASES PARA SVM:  5\n"
     ]
    }
   ],
   "source": [
    "# OBTENGO EL NUMERO DE CLASES QUE USARA LA MAQUINA SVM\n",
    "\n",
    "# Creo una variable de lista para el resumen de valores unicos de la lista de intenciones\n",
    "resumen=[]\n",
    "\n",
    "# Resumo la lista en otra resumida, con sus valores únicos\n",
    "for intencion in lista_intenciones:\n",
    "    if intencion not in resumen:\n",
    "        resumen.append(intencion)\n",
    "# Muestro el resumen de la lista de intenciones\n",
    "print('LISTA RESUMEN: ', resumen)\n",
    "\n",
    "# Calculo el numero de clases (intenciones de los interlocutores) que usaré en la clasificación\n",
    "n_clases = len(resumen)\n",
    "\n",
    "print('NUMERO DE CLASES PARA SVM: ', n_clases)"
   ]
  },
  {
   "cell_type": "code",
   "execution_count": 6,
   "metadata": {},
   "outputs": [
    {
     "name": "stdout",
     "output_type": "stream",
     "text": [
      "DIMENSIONES:  (30, 300)\n",
      "[[-0.48439166  0.16172822  0.0197233  ...  1.18150675 -1.10268128\n",
      "  -2.74171329]\n",
      " [-0.01730499 -0.58581495  0.56196499 ...  0.47120002 -0.92192996\n",
      "  -1.31074262]\n",
      " [ 0.35004893 -0.92674106  0.21061188 ...  0.90740556 -0.28749284\n",
      "  -2.12255001]\n",
      " ...\n",
      " [-0.81747168  1.39670372  1.3765167  ...  1.41383553  0.21690518\n",
      "   0.18176667]\n",
      " [-0.49268624  1.59670877  0.04207873 ...  0.83498442  0.29082626\n",
      "   0.17766005]\n",
      " [-0.48325783 -0.5238719   0.97486329 ...  0.37917364 -0.46799108\n",
      "  -2.91752791]]\n"
     ]
    }
   ],
   "source": [
    "# CONVIERTO LAS FRASES DE ENTRENAMIENTO EN UNA MATRIZ DE VALORES\n",
    "\n",
    "# Creo una matriz vacía llena de ceros para entremamiento, con dimensiones:\n",
    "# filas = la longitud de la lista de frases\n",
    "# columnas = la necesaria para caracterizar un texto (cualquiera) al procesarlo con la librería de análisis de lenguaje natural, que proporciona sus resultados como vectores de valores numéricos.\n",
    "X_train = np.zeros((len(lista_frases_entrenamiento), \n",
    "              nlp('cualquier texto').vocab.vectors_length))\n",
    "\n",
    "# Muestro las dimensiones de la nueva matriz\n",
    "print('DIMENSIONES: ', X_train.shape)\n",
    "\n",
    "# Coloco cada elemento de la lista (frase) en la matriz numérica, una vez procesado\n",
    "for i, frase in enumerate(lista_frases_entrenamiento):\n",
    "    # Examino cada frase extraída de la lista con el paquete de lenguaje nlp, generando un \"documento\" de Spacy\n",
    "    # Un documento Spacy es una entidad compuesta por tokens o símbolos, creada a partir de la sucesión de los caracteres del texto procesado.\n",
    "    doc = nlp(frase)\n",
    "    # Obtengo el vector del documento Spacy, y lo coloco en la fila correspondiente a su frase dentro de la matriz.\n",
    "    X_train[i, :] = doc.vector\n",
    "\n",
    "# Muestro la matriz creada a partir de los vectores\n",
    "print(X_train)"
   ]
  },
  {
   "cell_type": "code",
   "execution_count": 7,
   "metadata": {},
   "outputs": [
    {
     "data": {
      "text/plain": [
       "SVC(C=1, break_ties=False, cache_size=200, class_weight='balanced', coef0=0.0,\n",
       "    decision_function_shape='ovr', degree=3, gamma='auto', kernel='rbf',\n",
       "    max_iter=-1, probability=True, random_state=None, shrinking=True, tol=0.001,\n",
       "    verbose=False)"
      ]
     },
     "execution_count": 7,
     "metadata": {},
     "output_type": "execute_result"
    }
   ],
   "source": [
    "# CREO EL MODELO CLASIFICADOR DE FRASES PARA ANALIZAR SU INTENCIÓN\n",
    "\n",
    "# Usaremos una máquina de vectores de soporte (SVM), que clasificará las frases por su proximidad espacial\n",
    "# El espacio a considerar será de tantas dimensiones como las columnas de la matriz usada para entrenar el modelo\n",
    "\n",
    "# Defino el modelo como una máquina SVM utiliando la función SVC de la librería SVM de Scikit-Learn\n",
    "mod_clasificador = SVC(C=1, gamma=\"auto\", probability=True, class_weight='balanced') # C=factor de penalización, gamma=coeficiente de ajuste, auto usa 1/n características; probability=usa validación cruzada, class_weight ajusta pesos proporcionalmente a los elementos de cada clase\n",
    "\n",
    "# Entreno el modelo de clasificador SVM\n",
    "# Durante el entrenamiento, el modelo busca los hiperplanos que separan óptimamente las zonas que corresponden a cada etiqueta (intención)\n",
    "# Los datos son la matriz de vectores con las frases caracterizadas numéricamente, y la lista de etiquetas que definen la intención de cada una\n",
    "mod_clasificador.fit(X_train, lista_intenciones)"
   ]
  },
  {
   "cell_type": "code",
   "execution_count": 8,
   "metadata": {},
   "outputs": [],
   "source": [
    "# Defino una función que analiza la intención del interlocutor utilizando el modelo clasificador creado\n",
    "def get_intencion_svm(cuestion):\n",
    "    # Convierto la cuestion en un nuevo \"documento\" de Spacy\n",
    "    doc = nlp(cuestion)\n",
    "    # Obtengo la máxima probabilidad entre las que corresponden a cada clase segun el modelo de clasificación para esta cuestion\n",
    "    # Si el conjunto de datos es reducido, la funcion precit_proba de un modelo SVM suministrada por Scikit-Learn no es muy fiable\n",
    "    max_proba = max(mod_clasificador.predict_proba([doc.vector])[0])\n",
    "    # Si no alcanza un valor suficiente (mayor al que le corresponde aleatoriamente (1/n clases), responerá por defecto)\n",
    "    if(max_proba <= (1/n_clases)):\n",
    "        return('defecto')\n",
    "    else:\n",
    "        return(mod_clasificador.predict([doc.vector])[0])\n"
   ]
  },
  {
   "cell_type": "code",
   "execution_count": 9,
   "metadata": {},
   "outputs": [
    {
     "name": "stdout",
     "output_type": "stream",
     "text": [
      "INTENCION PRINCIPAL:  presencial\n",
      "INTENCION PRINCIPAL:  precio\n"
     ]
    }
   ],
   "source": [
    "# Pruebo la funcion de analisis de intenciones\n",
    "\n",
    "# Pruebo la extraccion de la intencion principal con una frase que no tiene nada que ver\n",
    "intencion_principal = get_intencion_svm('Te invito a cenar esta noche')\n",
    "# Muestro el resultado de manera ordenada\n",
    "print('INTENCION PRINCIPAL: ', intencion_principal)\n",
    "\n",
    "# Pruebo con otra frase\n",
    "print('INTENCION PRINCIPAL: ', get_intencion_svm('La cena fué demasiado cara'))"
   ]
  },
  {
   "cell_type": "code",
   "execution_count": 10,
   "metadata": {},
   "outputs": [
    {
     "name": "stdout",
     "output_type": "stream",
     "text": [
      "NÚMERO DE CLASES:  5\n",
      "NÚMERO DE RESPUESTAS:  6\n"
     ]
    }
   ],
   "source": [
    "# Creo la lista con la respuesta más adecuada a cada intencion del interlocutor\n",
    "lista_respuestas = {\n",
    "    \"presencial\":\"Puede visitarnos en la Casa Consistorial, en la plaza Mayor número 1.\",\n",
    "    \"precio\":\"El agua tiene muchos costes asociados que se incluyen en la tarifa, que es una de las más baratas.\",\n",
    "    \"factura\":\"Si su última factura fué muy superior a las anteriores, por favor verifique si la lectura de su contador es correcta, y que no tiene fugas en su instalación.\",\n",
    "    \"ingreso\":\"La forma de pago más cómoda, barata y fiable es la domiciliación bancaria. Si no le convence, puede pasar con su factura por una oficina de correos.\",\n",
    "    \"alta\":\"Debe traer o enviar electrónicamente la documentación siguiente....\",\n",
    "    \n",
    "    \"defecto\":\"Lo siento, no logré entender su pregunta. Estaré encantado de intentar ayudarle si la replantea.\"\n",
    "}\n",
    "\n",
    "\n",
    "# Compruebo que la lista de posibles respuestas se corresponde al número de clases o intenciones, más la respuesta por defecto\n",
    "print('NÚMERO DE CLASES: ', n_clases)\n",
    "print('NÚMERO DE RESPUESTAS: ', len(lista_respuestas))"
   ]
  },
  {
   "cell_type": "code",
   "execution_count": 11,
   "metadata": {},
   "outputs": [],
   "source": [
    "# Defino una funcion que establece la correspondencia entre la intención del interlocutor y la respuesta a mostrar\n",
    "def chatbot_svm(cuestion):\n",
    "    # Determino la respuesta que corresponde a la clasificación de intenciones, para la cuestion planteada\n",
    "    respuesta = lista_respuestas.get(get_intencion_svm(cuestion), lista_respuestas[\"defecto\"])\n",
    "    # Devuelvo el resultado en forma de cadena de contestación, apropiada para imprimir\n",
    "    return(contestacion.format(input=cuestion, output=respuesta))"
   ]
  },
  {
   "cell_type": "code",
   "execution_count": 27,
   "metadata": {
    "scrolled": true
   },
   "outputs": [
    {
     "name": "stdout",
     "output_type": "stream",
     "text": [
      "Pregunta: Quiero contratar el alta del suministro\n",
      "Respuesta: Debe traer o enviar electrónicamente la documentación siguiente....\n",
      "----------------------------------------------------------------------------------------------------\n",
      "Pregunta: ¿Donde tienen su oficina?\n",
      "Respuesta: Puede visitarnos en la Casa Consistorial, en la plaza Mayor número 1.\n",
      "----------------------------------------------------------------------------------------------------\n",
      "Pregunta: Debe haber un error en su recibo\n",
      "Respuesta: Si su última factura fué muy superior a las anteriores, por favor verifique si la lectura de su contador es correcta, y que no tiene fugas en su instalación.\n",
      "----------------------------------------------------------------------------------------------------\n",
      "Pregunta: El agua es un robo\n",
      "Respuesta: El agua tiene muchos costes asociados que se incluyen en la tarifa, que es una de las más baratas.\n",
      "----------------------------------------------------------------------------------------------------\n",
      "Pregunta: ¿Cuales son sus formas de pago?\n",
      "Respuesta: La forma de pago más cómoda, barata y fiable es la domiciliación bancaria. Si no le convence, puede pasar con su factura por una oficina de correos.\n",
      "----------------------------------------------------------------------------------------------------\n",
      "Pregunta: No me convence tratar con una máquina\n",
      "Respuesta: Puede visitarnos en la Casa Consistorial, en la plaza Mayor número 1.\n",
      "----------------------------------------------------------------------------------------------------\n",
      "Pregunta: ¿Eres realmente inteligente?\n",
      "Respuesta: Puede visitarnos en la Casa Consistorial, en la plaza Mayor número 1.\n",
      "----------------------------------------------------------------------------------------------------\n"
     ]
    }
   ],
   "source": [
    "# Ejemplos de diálogo:\n",
    "\n",
    "print(chatbot_svm(\"Quiero contratar el alta del suministro\"))\n",
    "\n",
    "print(chatbot_svm(\"¿Donde tienen su oficina?\"))\n",
    "\n",
    "print(chatbot_svm(\"Debe haber un error en su recibo\"))\n",
    "\n",
    "print(chatbot_svm(\"El agua es un robo\"))\n",
    "\n",
    "print(chatbot_svm(\"¿Cuales son sus formas de pago?\"))\n",
    "\n",
    "print(chatbot_svm(\"No me convence tratar con una máquina\"))\n",
    "\n",
    "print(chatbot_svm(\"¿Eres realmente inteligente?\"))\n"
   ]
  },
  {
   "cell_type": "code",
   "execution_count": null,
   "metadata": {},
   "outputs": [],
   "source": []
  }
 ],
 "metadata": {
  "kernelspec": {
   "display_name": "Python 3",
   "language": "python",
   "name": "python3"
  },
  "language_info": {
   "codemirror_mode": {
    "name": "ipython",
    "version": 3
   },
   "file_extension": ".py",
   "mimetype": "text/x-python",
   "name": "python",
   "nbconvert_exporter": "python",
   "pygments_lexer": "ipython3",
   "version": "3.7.6"
  }
 },
 "nbformat": 4,
 "nbformat_minor": 2
}
