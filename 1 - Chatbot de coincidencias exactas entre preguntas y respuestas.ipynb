{
 "cells": [
  {
   "cell_type": "markdown",
   "metadata": {},
   "source": [
    "## Chatbot de coincidencias exactas entre preguntas y respuestas\n",
    "\n",
    "La funcionalidad de un chatbot de este tipo es muy limitada, y resulta preferible orientar el diálogo mediante un árbol de preguntas, filtros o botones emergentes. Pero su análisis resulta útil como introducción para plantearnos las cuestiones más frecuentes, y la forma de tratar el uso de mayúsculas o faltas de ortografía en la introducción de las preguntas."
   ]
  },
  {
   "cell_type": "code",
   "execution_count": 4,
   "metadata": {},
   "outputs": [],
   "source": [
    "### #############################################################\n",
    "### Chatbot de coincidencias exactas entre preguntas y respuestas\n",
    "### Jose Maria de Cuenca\n",
    "### #############################################################\n",
    "\n",
    "# Defino una variable para almacenar la cadena de pregunta y respuesta con un formato que incluye un separador de guiones\n",
    "contestacion = \"Pregunta: {input}\\nRespuesta: {output}\\n\" + \"-\"*100"
   ]
  },
  {
   "cell_type": "code",
   "execution_count": 5,
   "metadata": {},
   "outputs": [],
   "source": [
    "# Coincidencias exactas\n",
    "\n",
    "# Creo una lista de preguntas y las respuestas que correspoden a cada una.\n",
    "# Todas las preguntas están en minúsculas para facilitar la búsqueda, cualquiera que sea el formato usado por el usuario.\n",
    "# También se podrían introducir sin acentos, modificando la búsqueda para eliminarlos previamente.\n",
    "lista_exacta = {\n",
    "    \"¿donde esta vuestra oficina?\": \"Puede visitarnos en la Casa Consistorial, en la plaza Mayor número 1.\",\n",
    "    \"¿por qué es tan cara el agua?\": \"El agua tiene muchos costes asociados que se incluyen en la tarifa, que es una de las más baratas.\",\n",
    "    \"¿por qué pago tanto de agua?\": \"Si su última factura fué muy superior a las anteriores, por favor verifique si la lectura de su contador es correcta, y que no tiene fugas en su instalación.\",\n",
    "    \"quiero pagar una factura\": \"La forma de pago más cómoda, barata y fiable es la domiciliación bancaria. Si no le convence, puede pasar con su factura por una oficina de correos.\",\n",
    "    \"quiero darme de alta\": \"Debe traer o enviar electrónicamente la documentación siguiente....\",\n",
    "    \n",
    "    \"defecto\": \"Lo siento, no logré entender su pregunta. Estaré encantado de intentar ayudarle si la replantea.\"\n",
    "}\n",
    "\n",
    "\n",
    "# Defino una función que establece una correspondencia exacta entre preguntas y respuestas\n",
    "def chatbot_exacto(cuestion):\n",
    "    # Realizo una búsqueda exacta de la pregunta en la lista, convirtiénola a minúsculas. Si no apararece, usa la respuesta por defecto.\n",
    "    respuesta = lista_exacta.get(cuestion.lower(), lista_exacta['defecto'])\n",
    "    # Devuelvo el resultado en forma de cadena de contestación apropiada para imprimir\n",
    "    return(contestacion.format(input=cuestion, output=respuesta))"
   ]
  },
  {
   "cell_type": "code",
   "execution_count": 6,
   "metadata": {},
   "outputs": [
    {
     "name": "stdout",
     "output_type": "stream",
     "text": [
      "Pregunta: Quiero darme de alta\n",
      "Respuesta: Debe traer o enviar electrónicamente la documentación siguiente....\n",
      "----------------------------------------------------------------------------------------------------\n",
      "Pregunta: ¿Donde esta vuestra oficina?\n",
      "Respuesta: Puede visitarnos en la Casa Consistorial, en la plaza Mayor número 1.\n",
      "----------------------------------------------------------------------------------------------------\n",
      "Pregunta: ¿Por qué es tan cara el agua?\n",
      "Respuesta: El agua tiene muchos costes asociados que se incluyen en la tarifa, que es una de las más baratas.\n",
      "----------------------------------------------------------------------------------------------------\n",
      "Pregunta: ¿Por qué pago tanto de agua?\n",
      "Respuesta: Si su última factura fué muy superior a las anteriores, por favor verifique si la lectura de su contador es correcta, y que no tiene fugas en su instalación.\n",
      "----------------------------------------------------------------------------------------------------\n",
      "Pregunta: Quiero pagar una factura\n",
      "Respuesta: La forma de pago más cómoda, barata y fiable es la domiciliación bancaria. Si no le convence, puede pasar con su factura por una oficina de correos.\n",
      "----------------------------------------------------------------------------------------------------\n",
      "Pregunta: ¿Eres realmente inteligente?\n",
      "Respuesta: Lo siento, no logré entender su pregunta. Estaré encantado de intentar ayudarle si la replantea.\n",
      "----------------------------------------------------------------------------------------------------\n"
     ]
    }
   ],
   "source": [
    "# Ejemplos de diálogo:\n",
    "\n",
    "print(chatbot_exacto(\"Quiero darme de alta\"))\n",
    "\n",
    "print(chatbot_exacto(\"¿Donde esta vuestra oficina?\"))\n",
    "\n",
    "print(chatbot_exacto(\"¿Por qué es tan cara el agua?\"))\n",
    "\n",
    "print(chatbot_exacto(\"¿Por qué pago tanto de agua?\"))\n",
    "\n",
    "print(chatbot_exacto(\"Quiero pagar una factura\"))\n",
    "\n",
    "print(chatbot_exacto(\"¿Eres realmente inteligente?\"))\n"
   ]
  },
  {
   "cell_type": "code",
   "execution_count": null,
   "metadata": {},
   "outputs": [],
   "source": []
  }
 ],
 "metadata": {
  "kernelspec": {
   "display_name": "Python 3",
   "language": "python",
   "name": "python3"
  },
  "language_info": {
   "codemirror_mode": {
    "name": "ipython",
    "version": 3
   },
   "file_extension": ".py",
   "mimetype": "text/x-python",
   "name": "python",
   "nbconvert_exporter": "python",
   "pygments_lexer": "ipython3",
   "version": "3.7.6"
  }
 },
 "nbformat": 4,
 "nbformat_minor": 2
}
