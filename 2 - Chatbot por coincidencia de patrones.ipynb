{
 "cells": [
  {
   "cell_type": "markdown",
   "metadata": {},
   "source": [
    "## Chatbot por coincidencia de patrones\n",
    "\n",
    "La funcionalidad de un chatbot por patrones es limitada, aunque más versátil que mediante coincidencias exactas.\n",
    "Sin embargo, si no se detecta el patrón correctamente puede llevar a la frustración de los usuarios con menos capacidad para entender su funcionamiento o con menor capacidad de expresarse. \n",
    "Su análisis resulta útil como introducción a la transposición de árboles de preguntas en palabras clave y a la detección de esos patrones."
   ]
  },
  {
   "cell_type": "code",
   "execution_count": 1,
   "metadata": {},
   "outputs": [],
   "source": [
    "### #####################################\n",
    "### Chatbot por coincidencia de patrones \n",
    "### Jose Maria de Cuenca\n",
    "### #####################################\n",
    "\n",
    "# Cargo librería \"regular expressions\", para análisis de expresiones regulares\n",
    "import re\n",
    "\n",
    "# Defino una variable para almacenar la cadena de pregunta y respuesta con un formato que incluye un separador de guiones\n",
    "contestacion = \"Pregunta: {input}\\nRespuesta: {output}\\n\" + \"-\"*100"
   ]
  },
  {
   "cell_type": "code",
   "execution_count": 2,
   "metadata": {},
   "outputs": [
    {
     "name": "stdout",
     "output_type": "stream",
     "text": [
      "{'presencial': re.compile('oficina|atencion|visita|cita|entrevista'), 'precio': re.compile('cara|cuesta|tarifa|tasa'), 'factura': re.compile('pago|recibo|cargo|banco|tanto|mucho|demasiado|caro'), 'ingreso': re.compile('pagar|cargo|quiero|deseo'), 'alta': re.compile('alta|darme|abonarme|transpasar|cambiar|tener|suministro')}\n"
     ]
    }
   ],
   "source": [
    "# Palabras clave\n",
    "\n",
    "# Defino listas de palabras clave que pueden identificar el tema de una pregunta\n",
    "# Todas las palabras están en minúsculas y sin acentos para facilitar la búsqueda, cualquiera que sea el formato usado por el usuario.\n",
    "# Una palabra clave puede figurar en varias listas. El patrón se identificará por la mayor coincidencia con una lista.\n",
    "palabras_clave = {\n",
    "    'presencial': ['oficina', 'atencion', 'visita', 'cita', 'entrevista'],\n",
    "    'precio': ['cara', 'cuesta', 'tarifa', 'tasa'],\n",
    "    'factura': ['pago', 'recibo', 'cargo', 'banco', 'tanto', 'mucho', 'demasiado', 'caro'],\n",
    "    'ingreso': ['pagar', 'cargo', 'quiero', 'deseo'],\n",
    "    'alta': ['alta', 'darme', 'abonarme', 'transpasar', 'cambiar', 'tener', 'suministro']\n",
    "}\n",
    "\n",
    "# Creo un diccionario de expresiones regulares en el formato de la librería re con las listas de palabras clave\n",
    "# El nombre del patrón será el nombre de su lista de palabras clave\n",
    "patrones = {intent: re.compile('|'.join(keys)) for intent, keys in palabras_clave.items()}\n",
    "\n",
    "# Muestro el diccionario de expresiones regulares\n",
    "print(patrones)"
   ]
  },
  {
   "cell_type": "code",
   "execution_count": 3,
   "metadata": {},
   "outputs": [],
   "source": [
    "# Defino una función que analiza la intención del interlocutor buscando patrones en el interior de su pregunta\n",
    "def get_intencion_re(message):\n",
    "    for intencion, patron in patrones.items():\n",
    "        # Compruebo si el patrón aparece en el mensaje \n",
    "        if patron.search(message):\n",
    "            return(intencion)\n",
    "    else:\n",
    "        return('defecto')\n",
    "\n",
    "    \n",
    "# Creo una lista de respuestas a cada patrón, identificado por su lista de palabras clave\n",
    "lista_respuestas = {\n",
    "    \"presencial\":\"Puede visitarnos en la Casa Consistorial, en la plaza Mayor número 1.\",\n",
    "    \"precio\":\"El agua tiene muchos costes asociados que se incluyen en la tarifa, que es una de las más baratas.\",\n",
    "    \"factura\":\"Si su última factura fué muy superior a las anteriores, por favor verifique si la lectura de su contador es correcta, y que no tiene fugas en su instalación.\",\n",
    "    \"ingreso\":\"La forma de pago más cómoda, barata y fiable es la domiciliación bancaria. Si no le convence, puede pasar con su factura por una oficina de correos.\",\n",
    "    \"alta\":\"Debe traer o enviar electrónicamente la documentación siguiente....\",\n",
    "\n",
    "    \"defecto\": \"Lo siento, no logré entender su pregunta. Estaré encantado de intentar ayudarle si la replantea.\"\n",
    "}\n",
    "\n",
    "# Defino una funcion que establece la correspondencia entre la intención del interlocutor y la respuesta a mostrar\n",
    "def chatbot_patrones(cuestion):\n",
    "    # Selecciono la respuesta que más se aproxima en función del patron de intenciones\n",
    "    respuesta = lista_respuestas.get(get_intencion_re(cuestion))\n",
    "    # Devuelvo el resultado en forma de cadena de contestación, apropiada para imprimir\n",
    "    return(contestacion.format(input=cuestion, output=respuesta))"
   ]
  },
  {
   "cell_type": "code",
   "execution_count": 4,
   "metadata": {},
   "outputs": [
    {
     "name": "stdout",
     "output_type": "stream",
     "text": [
      "Pregunta: Quiero darme de alta\n",
      "Respuesta: Debe traer o enviar electrónicamente la documentación siguiente....\n",
      "----------------------------------------------------------------------------------------------------\n",
      "Pregunta: ¿Donde esta vuestra oficina?\n",
      "Respuesta: Puede visitarnos en la Casa Consistorial, en la plaza Mayor número 1.\n",
      "----------------------------------------------------------------------------------------------------\n",
      "Pregunta: ¿Por qué es tan cara el agua?\n",
      "Respuesta: El agua tiene muchos costes asociados que se incluyen en la tarifa, que es una de las más baratas.\n",
      "----------------------------------------------------------------------------------------------------\n",
      "Pregunta: ¿Por qué pago tanto de agua?\n",
      "Respuesta: Si su última factura fué muy superior a las anteriores, por favor verifique si la lectura de su contador es correcta, y que no tiene fugas en su instalación.\n",
      "----------------------------------------------------------------------------------------------------\n",
      "Pregunta: Quiero pagar una factura\n",
      "Respuesta: La forma de pago más cómoda, barata y fiable es la domiciliación bancaria. Si no le convence, puede pasar con su factura por una oficina de correos.\n",
      "----------------------------------------------------------------------------------------------------\n",
      "Pregunta: ¿Eres realmente inteligente?\n",
      "Respuesta: Lo siento, no logré entender su pregunta. Estaré encantado de intentar ayudarle si la replantea.\n",
      "----------------------------------------------------------------------------------------------------\n"
     ]
    }
   ],
   "source": [
    "# Ejemplos de diálogo:\n",
    "\n",
    "print(chatbot_patrones(\"Quiero darme de alta\"))\n",
    "\n",
    "print(chatbot_patrones(\"¿Donde esta vuestra oficina?\"))\n",
    "\n",
    "print(chatbot_patrones(\"¿Por qué es tan cara el agua?\"))\n",
    "\n",
    "print(chatbot_patrones(\"¿Por qué pago tanto de agua?\"))\n",
    "\n",
    "print(chatbot_patrones(\"Quiero pagar una factura\"))\n",
    "\n",
    "print(chatbot_patrones(\"¿Eres realmente inteligente?\"))\n"
   ]
  },
  {
   "cell_type": "code",
   "execution_count": null,
   "metadata": {},
   "outputs": [],
   "source": []
  }
 ],
 "metadata": {
  "kernelspec": {
   "display_name": "Python 3",
   "language": "python",
   "name": "python3"
  },
  "language_info": {
   "codemirror_mode": {
    "name": "ipython",
    "version": 3
   },
   "file_extension": ".py",
   "mimetype": "text/x-python",
   "name": "python",
   "nbconvert_exporter": "python",
   "pygments_lexer": "ipython3",
   "version": "3.7.6"
  }
 },
 "nbformat": 4,
 "nbformat_minor": 2
}
